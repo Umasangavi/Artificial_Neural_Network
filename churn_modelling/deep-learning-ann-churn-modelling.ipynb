{
 "cells": [
  {
   "cell_type": "code",
   "execution_count": 1,
   "id": "de4689e3",
   "metadata": {
    "_cell_guid": "b1076dfc-b9ad-4769-8c92-a6c4dae69d19",
    "_uuid": "8f2839f25d086af736a60e9eeb907d3b93b6e0e5",
    "execution": {
     "iopub.execute_input": "2022-02-23T12:46:23.415886Z",
     "iopub.status.busy": "2022-02-23T12:46:23.414014Z",
     "iopub.status.idle": "2022-02-23T12:46:23.433469Z",
     "shell.execute_reply": "2022-02-23T12:46:23.432823Z",
     "shell.execute_reply.started": "2022-02-23T12:15:23.944715Z"
    },
    "papermill": {
     "duration": 0.049324,
     "end_time": "2022-02-23T12:46:23.433721",
     "exception": false,
     "start_time": "2022-02-23T12:46:23.384397",
     "status": "completed"
    },
    "tags": []
   },
   "outputs": [
    {
     "name": "stdout",
     "output_type": "stream",
     "text": [
      "/kaggle/input/churn-modelling/Churn_Modelling.csv\n"
     ]
    }
   ],
   "source": [
    "# This Python 3 environment comes with many helpful analytics libraries installed\n",
    "# It is defined by the kaggle/python Docker image: https://github.com/kaggle/docker-python\n",
    "# For example, here's several helpful packages to load\n",
    "\n",
    "import numpy as np # linear algebra\n",
    "import pandas as pd # data processing, CSV file I/O (e.g. pd.read_csv)\n",
    "\n",
    "# Input data files are available in the read-only \"../input/\" directory\n",
    "# For example, running this (by clicking run or pressing Shift+Enter) will list all files under the input directory\n",
    "\n",
    "import os\n",
    "for dirname, _, filenames in os.walk('/kaggle/input'):\n",
    "    for filename in filenames:\n",
    "        print(os.path.join(dirname, filename))\n",
    "\n",
    "# You can write up to 20GB to the current directory (/kaggle/working/) that gets preserved as output when you create a version using \"Save & Run All\" \n",
    "# You can also write temporary files to /kaggle/temp/, but they won't be saved outside of the current session"
   ]
  },
  {
   "cell_type": "code",
   "execution_count": 2,
   "id": "193417a5",
   "metadata": {
    "execution": {
     "iopub.execute_input": "2022-02-23T12:46:23.485961Z",
     "iopub.status.busy": "2022-02-23T12:46:23.485137Z",
     "iopub.status.idle": "2022-02-23T12:46:23.530700Z",
     "shell.execute_reply": "2022-02-23T12:46:23.530075Z",
     "shell.execute_reply.started": "2022-02-23T12:15:24.893846Z"
    },
    "papermill": {
     "duration": 0.073206,
     "end_time": "2022-02-23T12:46:23.530859",
     "exception": false,
     "start_time": "2022-02-23T12:46:23.457653",
     "status": "completed"
    },
    "tags": []
   },
   "outputs": [],
   "source": [
    "data=pd.read_csv('../input/churn-modelling/Churn_Modelling.csv')\n",
    "X=data.iloc[:, 3:13]\n",
    "y=data.iloc[:, 13]"
   ]
  },
  {
   "cell_type": "code",
   "execution_count": 3,
   "id": "13ec3b6f",
   "metadata": {
    "execution": {
     "iopub.execute_input": "2022-02-23T12:46:23.579644Z",
     "iopub.status.busy": "2022-02-23T12:46:23.578618Z",
     "iopub.status.idle": "2022-02-23T12:46:23.603113Z",
     "shell.execute_reply": "2022-02-23T12:46:23.603634Z",
     "shell.execute_reply.started": "2022-02-23T12:15:26.042316Z"
    },
    "papermill": {
     "duration": 0.050507,
     "end_time": "2022-02-23T12:46:23.603815",
     "exception": false,
     "start_time": "2022-02-23T12:46:23.553308",
     "status": "completed"
    },
    "tags": []
   },
   "outputs": [
    {
     "data": {
      "text/html": [
       "<div>\n",
       "<style scoped>\n",
       "    .dataframe tbody tr th:only-of-type {\n",
       "        vertical-align: middle;\n",
       "    }\n",
       "\n",
       "    .dataframe tbody tr th {\n",
       "        vertical-align: top;\n",
       "    }\n",
       "\n",
       "    .dataframe thead th {\n",
       "        text-align: right;\n",
       "    }\n",
       "</style>\n",
       "<table border=\"1\" class=\"dataframe\">\n",
       "  <thead>\n",
       "    <tr style=\"text-align: right;\">\n",
       "      <th></th>\n",
       "      <th>RowNumber</th>\n",
       "      <th>CustomerId</th>\n",
       "      <th>Surname</th>\n",
       "      <th>CreditScore</th>\n",
       "      <th>Geography</th>\n",
       "      <th>Gender</th>\n",
       "      <th>Age</th>\n",
       "      <th>Tenure</th>\n",
       "      <th>Balance</th>\n",
       "      <th>NumOfProducts</th>\n",
       "      <th>HasCrCard</th>\n",
       "      <th>IsActiveMember</th>\n",
       "      <th>EstimatedSalary</th>\n",
       "      <th>Exited</th>\n",
       "    </tr>\n",
       "  </thead>\n",
       "  <tbody>\n",
       "    <tr>\n",
       "      <th>0</th>\n",
       "      <td>1</td>\n",
       "      <td>15634602</td>\n",
       "      <td>Hargrave</td>\n",
       "      <td>619</td>\n",
       "      <td>France</td>\n",
       "      <td>Female</td>\n",
       "      <td>42</td>\n",
       "      <td>2</td>\n",
       "      <td>0.00</td>\n",
       "      <td>1</td>\n",
       "      <td>1</td>\n",
       "      <td>1</td>\n",
       "      <td>101348.88</td>\n",
       "      <td>1</td>\n",
       "    </tr>\n",
       "    <tr>\n",
       "      <th>1</th>\n",
       "      <td>2</td>\n",
       "      <td>15647311</td>\n",
       "      <td>Hill</td>\n",
       "      <td>608</td>\n",
       "      <td>Spain</td>\n",
       "      <td>Female</td>\n",
       "      <td>41</td>\n",
       "      <td>1</td>\n",
       "      <td>83807.86</td>\n",
       "      <td>1</td>\n",
       "      <td>0</td>\n",
       "      <td>1</td>\n",
       "      <td>112542.58</td>\n",
       "      <td>0</td>\n",
       "    </tr>\n",
       "    <tr>\n",
       "      <th>2</th>\n",
       "      <td>3</td>\n",
       "      <td>15619304</td>\n",
       "      <td>Onio</td>\n",
       "      <td>502</td>\n",
       "      <td>France</td>\n",
       "      <td>Female</td>\n",
       "      <td>42</td>\n",
       "      <td>8</td>\n",
       "      <td>159660.80</td>\n",
       "      <td>3</td>\n",
       "      <td>1</td>\n",
       "      <td>0</td>\n",
       "      <td>113931.57</td>\n",
       "      <td>1</td>\n",
       "    </tr>\n",
       "    <tr>\n",
       "      <th>3</th>\n",
       "      <td>4</td>\n",
       "      <td>15701354</td>\n",
       "      <td>Boni</td>\n",
       "      <td>699</td>\n",
       "      <td>France</td>\n",
       "      <td>Female</td>\n",
       "      <td>39</td>\n",
       "      <td>1</td>\n",
       "      <td>0.00</td>\n",
       "      <td>2</td>\n",
       "      <td>0</td>\n",
       "      <td>0</td>\n",
       "      <td>93826.63</td>\n",
       "      <td>0</td>\n",
       "    </tr>\n",
       "    <tr>\n",
       "      <th>4</th>\n",
       "      <td>5</td>\n",
       "      <td>15737888</td>\n",
       "      <td>Mitchell</td>\n",
       "      <td>850</td>\n",
       "      <td>Spain</td>\n",
       "      <td>Female</td>\n",
       "      <td>43</td>\n",
       "      <td>2</td>\n",
       "      <td>125510.82</td>\n",
       "      <td>1</td>\n",
       "      <td>1</td>\n",
       "      <td>1</td>\n",
       "      <td>79084.10</td>\n",
       "      <td>0</td>\n",
       "    </tr>\n",
       "  </tbody>\n",
       "</table>\n",
       "</div>"
      ],
      "text/plain": [
       "   RowNumber  CustomerId   Surname  CreditScore Geography  Gender  Age  \\\n",
       "0          1    15634602  Hargrave          619    France  Female   42   \n",
       "1          2    15647311      Hill          608     Spain  Female   41   \n",
       "2          3    15619304      Onio          502    France  Female   42   \n",
       "3          4    15701354      Boni          699    France  Female   39   \n",
       "4          5    15737888  Mitchell          850     Spain  Female   43   \n",
       "\n",
       "   Tenure    Balance  NumOfProducts  HasCrCard  IsActiveMember  \\\n",
       "0       2       0.00              1          1               1   \n",
       "1       1   83807.86              1          0               1   \n",
       "2       8  159660.80              3          1               0   \n",
       "3       1       0.00              2          0               0   \n",
       "4       2  125510.82              1          1               1   \n",
       "\n",
       "   EstimatedSalary  Exited  \n",
       "0        101348.88       1  \n",
       "1        112542.58       0  \n",
       "2        113931.57       1  \n",
       "3         93826.63       0  \n",
       "4         79084.10       0  "
      ]
     },
     "execution_count": 3,
     "metadata": {},
     "output_type": "execute_result"
    }
   ],
   "source": [
    "data.head()"
   ]
  },
  {
   "cell_type": "code",
   "execution_count": 4,
   "id": "d42107e5",
   "metadata": {
    "execution": {
     "iopub.execute_input": "2022-02-23T12:46:23.658046Z",
     "iopub.status.busy": "2022-02-23T12:46:23.657022Z",
     "iopub.status.idle": "2022-02-23T12:46:23.680155Z",
     "shell.execute_reply": "2022-02-23T12:46:23.680930Z",
     "shell.execute_reply.started": "2022-02-23T12:15:26.957349Z"
    },
    "papermill": {
     "duration": 0.054565,
     "end_time": "2022-02-23T12:46:23.681208",
     "exception": false,
     "start_time": "2022-02-23T12:46:23.626643",
     "status": "completed"
    },
    "tags": []
   },
   "outputs": [
    {
     "name": "stdout",
     "output_type": "stream",
     "text": [
      "<class 'pandas.core.frame.DataFrame'>\n",
      "RangeIndex: 10000 entries, 0 to 9999\n",
      "Data columns (total 14 columns):\n",
      " #   Column           Non-Null Count  Dtype  \n",
      "---  ------           --------------  -----  \n",
      " 0   RowNumber        10000 non-null  int64  \n",
      " 1   CustomerId       10000 non-null  int64  \n",
      " 2   Surname          10000 non-null  object \n",
      " 3   CreditScore      10000 non-null  int64  \n",
      " 4   Geography        10000 non-null  object \n",
      " 5   Gender           10000 non-null  object \n",
      " 6   Age              10000 non-null  int64  \n",
      " 7   Tenure           10000 non-null  int64  \n",
      " 8   Balance          10000 non-null  float64\n",
      " 9   NumOfProducts    10000 non-null  int64  \n",
      " 10  HasCrCard        10000 non-null  int64  \n",
      " 11  IsActiveMember   10000 non-null  int64  \n",
      " 12  EstimatedSalary  10000 non-null  float64\n",
      " 13  Exited           10000 non-null  int64  \n",
      "dtypes: float64(2), int64(9), object(3)\n",
      "memory usage: 1.1+ MB\n"
     ]
    }
   ],
   "source": [
    "data.info()"
   ]
  },
  {
   "cell_type": "code",
   "execution_count": 5,
   "id": "253c28b5",
   "metadata": {
    "execution": {
     "iopub.execute_input": "2022-02-23T12:46:23.734552Z",
     "iopub.status.busy": "2022-02-23T12:46:23.732450Z",
     "iopub.status.idle": "2022-02-23T12:46:23.743933Z",
     "shell.execute_reply": "2022-02-23T12:46:23.743335Z",
     "shell.execute_reply.started": "2022-02-23T12:15:27.721449Z"
    },
    "papermill": {
     "duration": 0.037673,
     "end_time": "2022-02-23T12:46:23.744094",
     "exception": false,
     "start_time": "2022-02-23T12:46:23.706421",
     "status": "completed"
    },
    "tags": []
   },
   "outputs": [],
   "source": [
    "#create dummy variables\n",
    "geography=pd.get_dummies(X[\"Geography\"],drop_first=True)\n",
    "gender=pd.get_dummies(X[\"Gender\"],drop_first=True)"
   ]
  },
  {
   "cell_type": "code",
   "execution_count": 6,
   "id": "cdf79bf5",
   "metadata": {
    "execution": {
     "iopub.execute_input": "2022-02-23T12:46:23.800453Z",
     "iopub.status.busy": "2022-02-23T12:46:23.799774Z",
     "iopub.status.idle": "2022-02-23T12:46:23.803050Z",
     "shell.execute_reply": "2022-02-23T12:46:23.802485Z",
     "shell.execute_reply.started": "2022-02-23T12:15:30.173494Z"
    },
    "papermill": {
     "duration": 0.035003,
     "end_time": "2022-02-23T12:46:23.803203",
     "exception": false,
     "start_time": "2022-02-23T12:46:23.768200",
     "status": "completed"
    },
    "tags": []
   },
   "outputs": [],
   "source": [
    "# Concatenate the Data Frames\n",
    "X=pd.concat([X,geography,gender],axis=1)"
   ]
  },
  {
   "cell_type": "code",
   "execution_count": 7,
   "id": "a1922dd9",
   "metadata": {
    "execution": {
     "iopub.execute_input": "2022-02-23T12:46:23.857219Z",
     "iopub.status.busy": "2022-02-23T12:46:23.856468Z",
     "iopub.status.idle": "2022-02-23T12:46:23.861835Z",
     "shell.execute_reply": "2022-02-23T12:46:23.861159Z",
     "shell.execute_reply.started": "2022-02-23T12:15:31.964147Z"
    },
    "papermill": {
     "duration": 0.034668,
     "end_time": "2022-02-23T12:46:23.861982",
     "exception": false,
     "start_time": "2022-02-23T12:46:23.827314",
     "status": "completed"
    },
    "tags": []
   },
   "outputs": [],
   "source": [
    "# Drop Unnecessary columns\n",
    "X=X.drop(['Geography','Gender'],axis=1)\n"
   ]
  },
  {
   "cell_type": "code",
   "execution_count": 8,
   "id": "3b6da4bc",
   "metadata": {
    "execution": {
     "iopub.execute_input": "2022-02-23T12:46:23.916305Z",
     "iopub.status.busy": "2022-02-23T12:46:23.915597Z",
     "iopub.status.idle": "2022-02-23T12:46:25.002263Z",
     "shell.execute_reply": "2022-02-23T12:46:25.000975Z",
     "shell.execute_reply.started": "2022-02-23T12:15:32.718175Z"
    },
    "papermill": {
     "duration": 1.116252,
     "end_time": "2022-02-23T12:46:25.002607",
     "exception": true,
     "start_time": "2022-02-23T12:46:23.886355",
     "status": "failed"
    },
    "tags": []
   },
   "outputs": [
    {
     "ename": "NameError",
     "evalue": "name 'X_train' is not defined",
     "output_type": "error",
     "traceback": [
      "\u001b[0;31m---------------------------------------------------------------------------\u001b[0m",
      "\u001b[0;31mNameError\u001b[0m                                 Traceback (most recent call last)",
      "\u001b[0;32m/tmp/ipykernel_20/113350076.py\u001b[0m in \u001b[0;36m<module>\u001b[0;34m\u001b[0m\n\u001b[1;32m      2\u001b[0m \u001b[0;32mfrom\u001b[0m \u001b[0msklearn\u001b[0m\u001b[0;34m.\u001b[0m\u001b[0mpreprocessing\u001b[0m \u001b[0;32mimport\u001b[0m \u001b[0mStandardScaler\u001b[0m\u001b[0;34m\u001b[0m\u001b[0;34m\u001b[0m\u001b[0m\n\u001b[1;32m      3\u001b[0m \u001b[0msc\u001b[0m\u001b[0;34m=\u001b[0m\u001b[0mStandardScaler\u001b[0m\u001b[0;34m(\u001b[0m\u001b[0;34m)\u001b[0m\u001b[0;34m\u001b[0m\u001b[0;34m\u001b[0m\u001b[0m\n\u001b[0;32m----> 4\u001b[0;31m \u001b[0mX_train\u001b[0m\u001b[0;34m=\u001b[0m\u001b[0msc\u001b[0m\u001b[0;34m.\u001b[0m\u001b[0mfit_transform\u001b[0m\u001b[0;34m(\u001b[0m\u001b[0mX_train\u001b[0m\u001b[0;34m)\u001b[0m\u001b[0;34m\u001b[0m\u001b[0;34m\u001b[0m\u001b[0m\n\u001b[0m\u001b[1;32m      5\u001b[0m \u001b[0mX_test\u001b[0m\u001b[0;34m=\u001b[0m\u001b[0msc\u001b[0m\u001b[0;34m.\u001b[0m\u001b[0mtransform\u001b[0m\u001b[0;34m(\u001b[0m\u001b[0mX_test\u001b[0m\u001b[0;34m)\u001b[0m\u001b[0;34m\u001b[0m\u001b[0;34m\u001b[0m\u001b[0m\n",
      "\u001b[0;31mNameError\u001b[0m: name 'X_train' is not defined"
     ]
    }
   ],
   "source": [
    "# Feature Scaling\n",
    "from sklearn.preprocessing import StandardScaler\n",
    "sc=StandardScaler()\n",
    "X_train=sc.fit_transform(X_train)\n",
    "X_test=sc.transform(X_test)"
   ]
  },
  {
   "cell_type": "code",
   "execution_count": null,
   "id": "d037d89e",
   "metadata": {
    "execution": {
     "iopub.execute_input": "2022-02-23T12:15:34.324520Z",
     "iopub.status.busy": "2022-02-23T12:15:34.324222Z",
     "iopub.status.idle": "2022-02-23T12:15:34.351747Z",
     "shell.execute_reply": "2022-02-23T12:15:34.351076Z",
     "shell.execute_reply.started": "2022-02-23T12:15:34.324488Z"
    },
    "papermill": {
     "duration": null,
     "end_time": null,
     "exception": null,
     "start_time": null,
     "status": "pending"
    },
    "tags": []
   },
   "outputs": [],
   "source": [
    "# Splitting the dataset into the Training set and Test set\n",
    "from sklearn.model_selection import train_test_split\n",
    "X_train,X_test,y_train,y_test=train_test_split(X,y,test_size=0.2,random_state=143)\n",
    "X_train"
   ]
  },
  {
   "cell_type": "code",
   "execution_count": null,
   "id": "3e40cfdf",
   "metadata": {
    "execution": {
     "iopub.execute_input": "2022-02-23T12:24:24.478922Z",
     "iopub.status.busy": "2022-02-23T12:24:24.478622Z",
     "iopub.status.idle": "2022-02-23T12:24:24.484305Z",
     "shell.execute_reply": "2022-02-23T12:24:24.483166Z",
     "shell.execute_reply.started": "2022-02-23T12:24:24.478890Z"
    },
    "papermill": {
     "duration": null,
     "end_time": null,
     "exception": null,
     "start_time": null,
     "status": "pending"
    },
    "tags": []
   },
   "outputs": [],
   "source": [
    "# Importing the Keras libraries and packages\n",
    "import keras\n",
    "from keras.models import Sequential\n",
    "from keras.layers import Dense\n",
    "#from keras.layers import LeakyReLU,PReLU,ELU\n",
    "from keras.layers import Dropout"
   ]
  },
  {
   "cell_type": "code",
   "execution_count": null,
   "id": "f58773ec",
   "metadata": {
    "execution": {
     "iopub.execute_input": "2022-02-23T12:24:25.912751Z",
     "iopub.status.busy": "2022-02-23T12:24:25.912239Z",
     "iopub.status.idle": "2022-02-23T12:24:25.921606Z",
     "shell.execute_reply": "2022-02-23T12:24:25.920610Z",
     "shell.execute_reply.started": "2022-02-23T12:24:25.912718Z"
    },
    "papermill": {
     "duration": null,
     "end_time": null,
     "exception": null,
     "start_time": null,
     "status": "pending"
    },
    "tags": []
   },
   "outputs": [],
   "source": [
    "# Initialising the ANN\n",
    "classifier = Sequential()"
   ]
  },
  {
   "cell_type": "code",
   "execution_count": null,
   "id": "ed50f1c5",
   "metadata": {
    "execution": {
     "iopub.execute_input": "2022-02-23T12:24:27.026078Z",
     "iopub.status.busy": "2022-02-23T12:24:27.025125Z",
     "iopub.status.idle": "2022-02-23T12:24:27.085796Z",
     "shell.execute_reply": "2022-02-23T12:24:27.084797Z",
     "shell.execute_reply.started": "2022-02-23T12:24:27.026017Z"
    },
    "papermill": {
     "duration": null,
     "end_time": null,
     "exception": null,
     "start_time": null,
     "status": "pending"
    },
    "tags": []
   },
   "outputs": [],
   "source": [
    "# Adding the input layer and the first hidden layer\n",
    "classifier.add(Dense(units = 10, kernel_initializer = 'he_uniform',activation='relu',input_dim = 11))\n",
    "classifier.add(Dropout(0.3))"
   ]
  },
  {
   "cell_type": "code",
   "execution_count": null,
   "id": "c2393530",
   "metadata": {
    "execution": {
     "iopub.execute_input": "2022-02-23T12:28:24.615266Z",
     "iopub.status.busy": "2022-02-23T12:28:24.614932Z",
     "iopub.status.idle": "2022-02-23T12:28:24.637323Z",
     "shell.execute_reply": "2022-02-23T12:28:24.636387Z",
     "shell.execute_reply.started": "2022-02-23T12:28:24.615233Z"
    },
    "papermill": {
     "duration": null,
     "end_time": null,
     "exception": null,
     "start_time": null,
     "status": "pending"
    },
    "tags": []
   },
   "outputs": [],
   "source": [
    "# Adding the second hidden layer\n",
    "classifier.add(Dense(units = 10, kernel_initializer = 'he_uniform',activation='relu'))\n",
    "classifier.add(Dropout(0.4))"
   ]
  },
  {
   "cell_type": "code",
   "execution_count": null,
   "id": "f0fc7892",
   "metadata": {
    "execution": {
     "iopub.execute_input": "2022-02-23T12:31:37.507501Z",
     "iopub.status.busy": "2022-02-23T12:31:37.507203Z",
     "iopub.status.idle": "2022-02-23T12:31:37.527690Z",
     "shell.execute_reply": "2022-02-23T12:31:37.526870Z",
     "shell.execute_reply.started": "2022-02-23T12:31:37.507469Z"
    },
    "papermill": {
     "duration": null,
     "end_time": null,
     "exception": null,
     "start_time": null,
     "status": "pending"
    },
    "tags": []
   },
   "outputs": [],
   "source": [
    "# Adding the third hidden layer\n",
    "classifier.add(Dense(units = 15, kernel_initializer = 'he_uniform',activation='relu'))\n",
    "classifier.add(Dropout(0.2))"
   ]
  },
  {
   "cell_type": "code",
   "execution_count": null,
   "id": "561d5562",
   "metadata": {
    "execution": {
     "iopub.execute_input": "2022-02-23T12:32:47.783231Z",
     "iopub.status.busy": "2022-02-23T12:32:47.782922Z",
     "iopub.status.idle": "2022-02-23T12:32:47.800964Z",
     "shell.execute_reply": "2022-02-23T12:32:47.799886Z",
     "shell.execute_reply.started": "2022-02-23T12:32:47.783198Z"
    },
    "papermill": {
     "duration": null,
     "end_time": null,
     "exception": null,
     "start_time": null,
     "status": "pending"
    },
    "tags": []
   },
   "outputs": [],
   "source": [
    "# Adding the output layer\n",
    "classifier.add(Dense(units = 1, kernel_initializer= 'glorot_uniform', activation = 'sigmoid'))\n"
   ]
  },
  {
   "cell_type": "code",
   "execution_count": null,
   "id": "6c81e648",
   "metadata": {
    "execution": {
     "iopub.execute_input": "2022-02-23T12:33:15.499208Z",
     "iopub.status.busy": "2022-02-23T12:33:15.498913Z",
     "iopub.status.idle": "2022-02-23T12:33:15.514336Z",
     "shell.execute_reply": "2022-02-23T12:33:15.513342Z",
     "shell.execute_reply.started": "2022-02-23T12:33:15.499175Z"
    },
    "papermill": {
     "duration": null,
     "end_time": null,
     "exception": null,
     "start_time": null,
     "status": "pending"
    },
    "tags": []
   },
   "outputs": [],
   "source": [
    "# Compiling the ANN\n",
    "classifier.compile(optimizer = 'Adamax', loss = 'binary_crossentropy', metrics = ['accuracy'])\n"
   ]
  },
  {
   "cell_type": "code",
   "execution_count": null,
   "id": "641512d6",
   "metadata": {
    "execution": {
     "iopub.execute_input": "2022-02-23T12:33:49.371183Z",
     "iopub.status.busy": "2022-02-23T12:33:49.370904Z",
     "iopub.status.idle": "2022-02-23T12:34:23.083462Z",
     "shell.execute_reply": "2022-02-23T12:34:23.082757Z",
     "shell.execute_reply.started": "2022-02-23T12:33:49.371152Z"
    },
    "papermill": {
     "duration": null,
     "end_time": null,
     "exception": null,
     "start_time": null,
     "status": "pending"
    },
    "tags": []
   },
   "outputs": [],
   "source": [
    "# Fitting the ANN to the Training set\n",
    "model_history=classifier.fit(X_train, y_train,validation_split=0.33, batch_size = 10, epochs = 25)\n"
   ]
  },
  {
   "cell_type": "code",
   "execution_count": null,
   "id": "d6ee5cef",
   "metadata": {
    "execution": {
     "iopub.execute_input": "2022-02-23T12:35:28.303814Z",
     "iopub.status.busy": "2022-02-23T12:35:28.303072Z",
     "iopub.status.idle": "2022-02-23T12:35:28.530960Z",
     "shell.execute_reply": "2022-02-23T12:35:28.530028Z",
     "shell.execute_reply.started": "2022-02-23T12:35:28.303769Z"
    },
    "papermill": {
     "duration": null,
     "end_time": null,
     "exception": null,
     "start_time": null,
     "status": "pending"
    },
    "tags": []
   },
   "outputs": [],
   "source": [
    "# Predicting the Test set results\n",
    "y_pred = classifier.predict(X_test)\n",
    "y_pred = (y_pred > 0.5)"
   ]
  },
  {
   "cell_type": "code",
   "execution_count": null,
   "id": "dcfa5124",
   "metadata": {
    "execution": {
     "iopub.execute_input": "2022-02-23T12:37:06.628226Z",
     "iopub.status.busy": "2022-02-23T12:37:06.627936Z",
     "iopub.status.idle": "2022-02-23T12:37:06.644200Z",
     "shell.execute_reply": "2022-02-23T12:37:06.643130Z",
     "shell.execute_reply.started": "2022-02-23T12:37:06.628194Z"
    },
    "papermill": {
     "duration": null,
     "end_time": null,
     "exception": null,
     "start_time": null,
     "status": "pending"
    },
    "tags": []
   },
   "outputs": [],
   "source": [
    "# Making the Confusion Matrix\n",
    "from sklearn.metrics import confusion_matrix\n",
    "cm = confusion_matrix(y_test, y_pred)\n",
    "print(cm)"
   ]
  },
  {
   "cell_type": "code",
   "execution_count": null,
   "id": "1da55257",
   "metadata": {
    "execution": {
     "iopub.execute_input": "2022-02-23T12:37:19.501809Z",
     "iopub.status.busy": "2022-02-23T12:37:19.501492Z",
     "iopub.status.idle": "2022-02-23T12:37:19.508358Z",
     "shell.execute_reply": "2022-02-23T12:37:19.507545Z",
     "shell.execute_reply.started": "2022-02-23T12:37:19.501778Z"
    },
    "papermill": {
     "duration": null,
     "end_time": null,
     "exception": null,
     "start_time": null,
     "status": "pending"
    },
    "tags": []
   },
   "outputs": [],
   "source": [
    "# Calculate the Accuracy\n",
    "from sklearn.metrics import accuracy_score\n",
    "score=accuracy_score(y_pred,y_test)\n",
    "print(score)"
   ]
  },
  {
   "cell_type": "code",
   "execution_count": null,
   "id": "127cb6b8",
   "metadata": {
    "papermill": {
     "duration": null,
     "end_time": null,
     "exception": null,
     "start_time": null,
     "status": "pending"
    },
    "tags": []
   },
   "outputs": [],
   "source": []
  }
 ],
 "metadata": {
  "kernelspec": {
   "display_name": "Python 3",
   "language": "python",
   "name": "python3"
  },
  "language_info": {
   "codemirror_mode": {
    "name": "ipython",
    "version": 3
   },
   "file_extension": ".py",
   "mimetype": "text/x-python",
   "name": "python",
   "nbconvert_exporter": "python",
   "pygments_lexer": "ipython3",
   "version": "3.7.12"
  },
  "papermill": {
   "default_parameters": {},
   "duration": 13.051755,
   "end_time": "2022-02-23T12:46:25.739629",
   "environment_variables": {},
   "exception": true,
   "input_path": "__notebook__.ipynb",
   "output_path": "__notebook__.ipynb",
   "parameters": {},
   "start_time": "2022-02-23T12:46:12.687874",
   "version": "2.3.3"
  }
 },
 "nbformat": 4,
 "nbformat_minor": 5
}
