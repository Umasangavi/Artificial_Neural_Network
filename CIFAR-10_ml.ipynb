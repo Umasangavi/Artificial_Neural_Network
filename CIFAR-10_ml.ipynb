{
  "nbformat": 4,
  "nbformat_minor": 0,
  "metadata": {
    "colab": {
      "name": "image dataset_ml",
      "provenance": [],
      "collapsed_sections": []
    },
    "kernelspec": {
      "name": "python3",
      "display_name": "Python 3"
    },
    "language_info": {
      "name": "python"
    },
    "accelerator": "GPU"
  },
  "cells": [
    {
      "cell_type": "code",
      "execution_count": null,
      "metadata": {
        "id": "AzjfQn-v0TV0"
      },
      "outputs": [],
      "source": [
        ""
      ]
    },
    {
      "cell_type": "code",
      "source": [
        "from tensorflow import keras\n",
        "import numpy as np\n",
        "import matplotlib.pyplot as plt\n"
      ],
      "metadata": {
        "id": "Lqk2nDQN0nuu"
      },
      "execution_count": 11,
      "outputs": []
    },
    {
      "cell_type": "code",
      "source": [
        "(X_train,y_train),(X_test,y_test)= keras.datasets.cifar10.load_data()"
      ],
      "metadata": {
        "id": "vkka8kFp1H-O",
        "colab": {
          "base_uri": "https://localhost:8080/"
        },
        "outputId": "1c3e886e-0f97-48a4-b1df-179f70058b7b"
      },
      "execution_count": 12,
      "outputs": [
        {
          "output_type": "stream",
          "name": "stdout",
          "text": [
            "Downloading data from https://www.cs.toronto.edu/~kriz/cifar-10-python.tar.gz\n",
            "170500096/170498071 [==============================] - 2s 0us/step\n",
            "170508288/170498071 [==============================] - 2s 0us/step\n"
          ]
        }
      ]
    },
    {
      "cell_type": "code",
      "source": [
        "X_train.shape"
      ],
      "metadata": {
        "colab": {
          "base_uri": "https://localhost:8080/"
        },
        "id": "_z7Rfrn71uPb",
        "outputId": "e321dfb6-f1bc-4844-8f69-65e1c85b468d"
      },
      "execution_count": 13,
      "outputs": [
        {
          "output_type": "execute_result",
          "data": {
            "text/plain": [
              "(50000, 32, 32, 3)"
            ]
          },
          "metadata": {},
          "execution_count": 13
        }
      ]
    },
    {
      "cell_type": "code",
      "source": [
        "X_test.shape"
      ],
      "metadata": {
        "colab": {
          "base_uri": "https://localhost:8080/"
        },
        "id": "1ZVNHsgh41Xh",
        "outputId": "9aeb137e-cc64-4cbb-ef63-8ddbe6d067be"
      },
      "execution_count": 14,
      "outputs": [
        {
          "output_type": "execute_result",
          "data": {
            "text/plain": [
              "(10000, 32, 32, 3)"
            ]
          },
          "metadata": {},
          "execution_count": 14
        }
      ]
    },
    {
      "cell_type": "code",
      "source": [
        "#Data preprocessing\n",
        "#Normalization\n",
        "X_train= X_train/255.0\n",
        "X_test= X_test/255.0"
      ],
      "metadata": {
        "id": "Nu4ePaAX48wb"
      },
      "execution_count": 15,
      "outputs": []
    },
    {
      "cell_type": "code",
      "source": [
        "#sklearn expects i/p to be 2d array-model.fit(x_train,y_train)=>reshape to 2d array\n",
        "nsamples, nX, ny, nrgb = X_train.shape\n",
        "X_train2 = X_train.reshape((nsamples,nX*ny*nrgb))"
      ],
      "metadata": {
        "id": "xPKYhz_p5VPv"
      },
      "execution_count": 16,
      "outputs": []
    },
    {
      "cell_type": "code",
      "source": [
        "#so,eventually,model.predict() should also be a 2d input\n",
        "nsamples, nX, ny, nrgb = X_test.shape\n",
        "X_test2 = X_test.reshape((nsamples,nX*ny*nrgb))"
      ],
      "metadata": {
        "id": "W2ErAjGwl8qf"
      },
      "execution_count": 19,
      "outputs": []
    },
    {
      "cell_type": "code",
      "source": [
        "#RandomForestClassifier\n",
        "from sklearn.ensemble import RandomForestClassifier\n",
        "model=RandomForestClassifier()\n",
        "model.fit(X_train2,y_train)"
      ],
      "metadata": {
        "colab": {
          "base_uri": "https://localhost:8080/"
        },
        "id": "R66T6yFwiQEi",
        "outputId": "3fbd636a-8c91-4493-ade3-9e0570c3b4d8"
      },
      "execution_count": 20,
      "outputs": [
        {
          "output_type": "stream",
          "name": "stderr",
          "text": [
            "/usr/local/lib/python3.7/dist-packages/ipykernel_launcher.py:4: DataConversionWarning: A column-vector y was passed when a 1d array was expected. Please change the shape of y to (n_samples,), for example using ravel().\n",
            "  after removing the cwd from sys.path.\n"
          ]
        },
        {
          "output_type": "execute_result",
          "data": {
            "text/plain": [
              "RandomForestClassifier()"
            ]
          },
          "metadata": {},
          "execution_count": 20
        }
      ]
    },
    {
      "cell_type": "code",
      "source": [
        "y_pred= model.predict(X_test2)\n",
        "y_pred"
      ],
      "metadata": {
        "colab": {
          "base_uri": "https://localhost:8080/"
        },
        "id": "7cm1sh6oobNF",
        "outputId": "5749eb99-dbc5-47cd-b231-ae13aa393bf9"
      },
      "execution_count": 21,
      "outputs": [
        {
          "output_type": "execute_result",
          "data": {
            "text/plain": [
              "array([3, 8, 8, ..., 3, 5, 7], dtype=uint8)"
            ]
          },
          "metadata": {},
          "execution_count": 21
        }
      ]
    },
    {
      "cell_type": "code",
      "source": [
        "from sklearn.metrics import accuracy_score, classification_report, confusion_matrix\n",
        "accuracy_score(y_pred,y_test)\n",
        "print(classification_report(y_pred,y_test)) #47% accuracy on the test data"
      ],
      "metadata": {
        "colab": {
          "base_uri": "https://localhost:8080/"
        },
        "id": "p6_U-flWquXH",
        "outputId": "ec3a87a7-43cb-4ed1-82cb-c57ee94177b5"
      },
      "execution_count": 22,
      "outputs": [
        {
          "output_type": "stream",
          "name": "stdout",
          "text": [
            "              precision    recall  f1-score   support\n",
            "\n",
            "           0       0.56      0.55      0.56      1032\n",
            "           1       0.55      0.52      0.54      1070\n",
            "           2       0.34      0.38      0.35       893\n",
            "           3       0.28      0.35      0.31       795\n",
            "           4       0.41      0.40      0.41      1031\n",
            "           5       0.39      0.41      0.40       954\n",
            "           6       0.56      0.47      0.51      1182\n",
            "           7       0.46      0.53      0.49       866\n",
            "           8       0.60      0.59      0.60      1021\n",
            "           9       0.55      0.48      0.51      1156\n",
            "\n",
            "    accuracy                           0.47     10000\n",
            "   macro avg       0.47      0.47      0.47     10000\n",
            "weighted avg       0.48      0.47      0.47     10000\n",
            "\n"
          ]
        }
      ]
    },
    {
      "cell_type": "code",
      "source": [
        "confusion_matrix(y_pred, y_test)"
      ],
      "metadata": {
        "colab": {
          "base_uri": "https://localhost:8080/"
        },
        "id": "bronzzvqryHy",
        "outputId": "73bb0fcd-d451-4907-ef0a-74b4712b4e46"
      },
      "execution_count": 23,
      "outputs": [
        {
          "output_type": "execute_result",
          "data": {
            "text/plain": [
              "array([[564,  25,  98,  50,  59,  37,  10,  50,  91,  48],\n",
              "       [ 42, 554,  40,  40,  21,  23,  36,  44,  97, 173],\n",
              "       [ 60,  20, 336,  80, 138,  86,  83,  56,  17,  17],\n",
              "       [ 18,  37,  76, 277,  49, 155,  67,  52,  26,  38],\n",
              "       [ 35,  24, 149,  70, 414,  83, 120,  88,  25,  23],\n",
              "       [ 21,  33,  70, 191,  58, 389,  54,  86,  31,  21],\n",
              "       [ 26,  35, 118, 136, 138,  81, 560,  52,  12,  24],\n",
              "       [ 26,  28,  57,  67,  75,  81,  22, 460,  20,  30],\n",
              "       [152,  57,  29,  19,  27,  30,   7,  23, 605,  72],\n",
              "       [ 56, 187,  27,  70,  21,  35,  41,  89,  76, 554]])"
            ]
          },
          "metadata": {},
          "execution_count": 23
        }
      ]
    },
    {
      "cell_type": "code",
      "source": [
        "#KNN\n",
        "from sklearn.neighbors import KNeighborsClassifier\n",
        "knn=KNeighborsClassifier(n_neighbors=7)\n",
        "knn.fit(X_train2,y_train)"
      ],
      "metadata": {
        "colab": {
          "base_uri": "https://localhost:8080/"
        },
        "id": "LVAp-S2RsC_p",
        "outputId": "9d4c48b7-3bf3-462a-8e5b-9a63c6654a1f"
      },
      "execution_count": 24,
      "outputs": [
        {
          "output_type": "stream",
          "name": "stderr",
          "text": [
            "/usr/local/lib/python3.7/dist-packages/sklearn/neighbors/_classification.py:198: DataConversionWarning: A column-vector y was passed when a 1d array was expected. Please change the shape of y to (n_samples,), for example using ravel().\n",
            "  return self._fit(X, y)\n"
          ]
        },
        {
          "output_type": "execute_result",
          "data": {
            "text/plain": [
              "KNeighborsClassifier(n_neighbors=7)"
            ]
          },
          "metadata": {},
          "execution_count": 24
        }
      ]
    },
    {
      "cell_type": "code",
      "source": [
        "y_pred_knn= knn.predict(X_test2)\n",
        "y_pred_knn"
      ],
      "metadata": {
        "colab": {
          "base_uri": "https://localhost:8080/"
        },
        "id": "3cqnq6jIvvzz",
        "outputId": "02d1197e-876c-426e-8392-d7901c7eee25"
      },
      "execution_count": 25,
      "outputs": [
        {
          "output_type": "execute_result",
          "data": {
            "text/plain": [
              "array([2, 8, 8, ..., 5, 6, 4], dtype=uint8)"
            ]
          },
          "metadata": {},
          "execution_count": 25
        }
      ]
    },
    {
      "cell_type": "code",
      "source": [
        "accuracy_score(y_pred_knn,y_test)\n",
        "print(classification_report(y_pred_knn,y_test)) #34% accuracy on the test data in knn"
      ],
      "metadata": {
        "colab": {
          "base_uri": "https://localhost:8080/"
        },
        "id": "ObybkXVRwMKF",
        "outputId": "9ff1ecc8-4f26-46e2-fea7-5fa66ed1ce46"
      },
      "execution_count": 26,
      "outputs": [
        {
          "output_type": "stream",
          "name": "stdout",
          "text": [
            "              precision    recall  f1-score   support\n",
            "\n",
            "           0       0.52      0.40      0.45      1299\n",
            "           1       0.20      0.70      0.30       280\n",
            "           2       0.44      0.22      0.29      2013\n",
            "           3       0.20      0.28      0.23       707\n",
            "           4       0.52      0.23      0.32      2222\n",
            "           5       0.20      0.40      0.27       504\n",
            "           6       0.27      0.35      0.30       761\n",
            "           7       0.20      0.70      0.31       281\n",
            "           8       0.69      0.39      0.50      1749\n",
            "           9       0.14      0.73      0.23       184\n",
            "\n",
            "    accuracy                           0.34     10000\n",
            "   macro avg       0.34      0.44      0.32     10000\n",
            "weighted avg       0.45      0.34      0.35     10000\n",
            "\n"
          ]
        }
      ]
    },
    {
      "cell_type": "code",
      "source": [
        "confusion_matrix(y_pred_knn,y_test)"
      ],
      "metadata": {
        "colab": {
          "base_uri": "https://localhost:8080/"
        },
        "id": "8t7Xv6Suws-m",
        "outputId": "1c15d7c8-597e-4e7b-d007-af23e9c3d27a"
      },
      "execution_count": 27,
      "outputs": [
        {
          "output_type": "execute_result",
          "data": {
            "text/plain": [
              "array([[518, 118, 110,  66,  60,  63,  22,  78, 112, 152],\n",
              "       [  7, 195,   2,   5,   0,   2,   1,   8,  10,  50],\n",
              "       [118, 124, 437, 243, 268, 225, 271, 185,  47,  95],\n",
              "       [ 12,  51,  50, 199,  33, 156,  56,  57,  34,  59],\n",
              "       [ 46, 173, 250, 214, 521, 201, 319, 294,  69, 135],\n",
              "       [  5,  32,  24, 102,  14, 204,  32,  60,  12,  19],\n",
              "       [ 30,  55,  65, 108,  44,  80, 265,  48,  14,  52],\n",
              "       [  5,   8,   7,  11,  11,  10,   1, 196,   7,  25],\n",
              "       [255, 223,  53,  51,  48,  53,  32,  68, 688, 278],\n",
              "       [  4,  21,   2,   1,   1,   6,   1,   6,   7, 135]])"
            ]
          },
          "metadata": {},
          "execution_count": 27
        }
      ]
    },
    {
      "cell_type": "code",
      "source": [
        "from sklearn.tree import DecisionTreeClassifier\n",
        "dtc= DecisionTreeClassifier()\n",
        "dtc.fit(X_train2,y_train)"
      ],
      "metadata": {
        "colab": {
          "base_uri": "https://localhost:8080/"
        },
        "id": "4YJ1NS_Zw1kp",
        "outputId": "0de60bba-3714-4fbd-bfb1-82fc7a7d58c1"
      },
      "execution_count": 28,
      "outputs": [
        {
          "output_type": "execute_result",
          "data": {
            "text/plain": [
              "DecisionTreeClassifier()"
            ]
          },
          "metadata": {},
          "execution_count": 28
        }
      ]
    },
    {
      "cell_type": "code",
      "source": [
        "y_pred_dtc= dtc.predict(X_test2)\n",
        "y_pred_dtc"
      ],
      "metadata": {
        "colab": {
          "base_uri": "https://localhost:8080/"
        },
        "id": "0-xIbNwpxV2r",
        "outputId": "000020bb-c4b2-4694-d818-d8112d527ab8"
      },
      "execution_count": 29,
      "outputs": [
        {
          "output_type": "execute_result",
          "data": {
            "text/plain": [
              "array([7, 1, 9, ..., 2, 3, 1], dtype=uint8)"
            ]
          },
          "metadata": {},
          "execution_count": 29
        }
      ]
    },
    {
      "cell_type": "code",
      "source": [
        "accuracy_score(y_pred_dtc, y_test)\n",
        "print(classification_report(y_pred_dtc, y_test)) #27% accuracu on the test data in decision tree"
      ],
      "metadata": {
        "colab": {
          "base_uri": "https://localhost:8080/"
        },
        "id": "c8xnNtofy4oe",
        "outputId": "f7fb4779-a430-4fea-b42e-a0ec5b7b5298"
      },
      "execution_count": 30,
      "outputs": [
        {
          "output_type": "stream",
          "name": "stdout",
          "text": [
            "              precision    recall  f1-score   support\n",
            "\n",
            "           0       0.35      0.33      0.34      1054\n",
            "           1       0.27      0.29      0.28       959\n",
            "           2       0.22      0.21      0.21      1057\n",
            "           3       0.18      0.18      0.18       973\n",
            "           4       0.23      0.22      0.22      1042\n",
            "           5       0.22      0.22      0.22       989\n",
            "           6       0.29      0.29      0.29      1014\n",
            "           7       0.26      0.27      0.26       964\n",
            "           8       0.38      0.38      0.38       994\n",
            "           9       0.29      0.30      0.30       954\n",
            "\n",
            "    accuracy                           0.27     10000\n",
            "   macro avg       0.27      0.27      0.27     10000\n",
            "weighted avg       0.27      0.27      0.27     10000\n",
            "\n"
          ]
        }
      ]
    },
    {
      "cell_type": "code",
      "source": [
        "confusion_matrix(y_pred_dtc, y_test)"
      ],
      "metadata": {
        "colab": {
          "base_uri": "https://localhost:8080/"
        },
        "id": "vwH0aIxDzJD_",
        "outputId": "9abfd12d-622b-42f3-b169-dce4e9676e13"
      },
      "execution_count": 31,
      "outputs": [
        {
          "output_type": "execute_result",
          "data": {
            "text/plain": [
              "array([[350,  76,  97,  66,  55,  56,  41,  69, 155,  89],\n",
              "       [ 63, 274,  47,  65,  43,  55,  57,  81, 109, 165],\n",
              "       [ 84,  75, 220, 101, 160, 104, 122,  84,  46,  61],\n",
              "       [ 52,  89,  86, 177,  76, 158, 125, 101,  42,  67],\n",
              "       [ 69,  58, 156, 115, 227,  92, 135, 104,  46,  40],\n",
              "       [ 56,  55, 110, 129, 113, 217,  97, 107,  52,  53],\n",
              "       [ 41,  62, 108, 140, 127,  99, 291,  57,  28,  61],\n",
              "       [ 65,  60,  84, 107, 113,  98,  61, 256,  37,  83],\n",
              "       [143,  95,  39,  43,  41,  71,  28,  62, 380,  92],\n",
              "       [ 77, 156,  53,  57,  45,  50,  43,  79, 105, 289]])"
            ]
          },
          "metadata": {},
          "execution_count": 31
        }
      ]
    },
    {
      "cell_type": "code",
      "source": [
        "from sklearn.naive_bayes import GaussianNB\n",
        "nb= GaussianNB()\n",
        "nb.fit(X_train2, y_train)"
      ],
      "metadata": {
        "colab": {
          "base_uri": "https://localhost:8080/"
        },
        "id": "cDbC1gvRzRvL",
        "outputId": "c1269fd0-814d-4b02-a334-0e78236f9372"
      },
      "execution_count": 32,
      "outputs": [
        {
          "output_type": "stream",
          "name": "stderr",
          "text": [
            "/usr/local/lib/python3.7/dist-packages/sklearn/utils/validation.py:993: DataConversionWarning: A column-vector y was passed when a 1d array was expected. Please change the shape of y to (n_samples, ), for example using ravel().\n",
            "  y = column_or_1d(y, warn=True)\n"
          ]
        },
        {
          "output_type": "execute_result",
          "data": {
            "text/plain": [
              "GaussianNB()"
            ]
          },
          "metadata": {},
          "execution_count": 32
        }
      ]
    },
    {
      "cell_type": "code",
      "source": [
        "y_pred_nb= nb.predict(X_test2)\n",
        "y_pred_nb"
      ],
      "metadata": {
        "colab": {
          "base_uri": "https://localhost:8080/"
        },
        "id": "8sUhTHD20YwZ",
        "outputId": "5044c09a-5b81-4d58-dcd1-84c28360ee8d"
      },
      "execution_count": 33,
      "outputs": [
        {
          "output_type": "execute_result",
          "data": {
            "text/plain": [
              "array([6, 8, 8, ..., 6, 5, 4], dtype=uint8)"
            ]
          },
          "metadata": {},
          "execution_count": 33
        }
      ]
    },
    {
      "cell_type": "code",
      "source": [
        "accuracy_score(y_pred_nb, y_test)\n",
        "print(classification_report(y_pred_nb,y_test)) #30% accuracy on the text data in nb"
      ],
      "metadata": {
        "colab": {
          "base_uri": "https://localhost:8080/"
        },
        "id": "V3hrPHlo0kYJ",
        "outputId": "c2af07ce-fc08-469d-c05f-e11e8da85d60"
      },
      "execution_count": 34,
      "outputs": [
        {
          "output_type": "stream",
          "name": "stdout",
          "text": [
            "              precision    recall  f1-score   support\n",
            "\n",
            "           0       0.49      0.27      0.35      1817\n",
            "           1       0.17      0.41      0.24       405\n",
            "           2       0.08      0.19      0.12       443\n",
            "           3       0.08      0.25      0.12       305\n",
            "           4       0.42      0.24      0.30      1737\n",
            "           5       0.26      0.31      0.29       840\n",
            "           6       0.47      0.25      0.33      1846\n",
            "           7       0.13      0.42      0.20       310\n",
            "           8       0.47      0.39      0.42      1219\n",
            "           9       0.41      0.38      0.39      1078\n",
            "\n",
            "    accuracy                           0.30     10000\n",
            "   macro avg       0.30      0.31      0.28     10000\n",
            "weighted avg       0.39      0.30      0.32     10000\n",
            "\n"
          ]
        }
      ]
    },
    {
      "cell_type": "code",
      "source": [
        "confusion_matrix(y_pred_nb,y_test)"
      ],
      "metadata": {
        "colab": {
          "base_uri": "https://localhost:8080/"
        },
        "id": "uWoBUJgF0zVE",
        "outputId": "538a8f05-4b5e-4a76-929d-426072d79d7c"
      },
      "execution_count": 35,
      "outputs": [
        {
          "output_type": "execute_result",
          "data": {
            "text/plain": [
              "array([[494, 141, 225, 163,  86, 156, 106, 134, 168, 144],\n",
              "       [ 20, 166,  24,  36,   8,  17,   2,  24,  41,  67],\n",
              "       [ 39,  24,  83,  54,  57,  55,  60,  36,  18,  17],\n",
              "       [ 10,  31,  15,  76,  26,  51,  18,  41,  17,  20],\n",
              "       [ 84,  66, 292, 151, 417, 167, 228, 228,  56,  48],\n",
              "       [ 34,  72,  48, 129,  38, 264,  46,  94,  83,  32],\n",
              "       [ 50, 192, 209, 262, 265, 159, 467, 102,  39, 101],\n",
              "       [  9,  19,  21,  26,  22,  36,  15, 131,   8,  23],\n",
              "       [200, 121,  54,  34,  50,  57,  19,  72, 471, 141],\n",
              "       [ 60, 168,  29,  69,  31,  38,  39, 138,  99, 407]])"
            ]
          },
          "metadata": {},
          "execution_count": 35
        }
      ]
    },
    {
      "cell_type": "markdown",
      "source": [
        "Random Forest Classifier shows the best performance with 47% accuracy followed by KNN with 34% accuracy, NB with 30% accuracy, and Decision Tree with 27% accuracy. Thus, Random Forest exhibits the best performance and Decision Tree the worst.\n",
        "\n",
        "However, all the Machine learning algorithms perform poorly as indicated by the accuracies. The highest is just 47% while Deep learning algorithms outsmart them exceptionally with accuracies mostly exceeding 90%!!!\n",
        "\n",
        "That’s why I mentioned at the beginning itself that this work can only be used to compare a Deep Learning model and defend the DL model."
      ],
      "metadata": {
        "id": "q451KTtn1Psq"
      }
    },
    {
      "cell_type": "code",
      "source": [
        "import cv2"
      ],
      "metadata": {
        "id": "-SDX1MhmgLmv"
      },
      "execution_count": 36,
      "outputs": []
    },
    {
      "cell_type": "code",
      "source": [
        "img_path='/content/drive/MyDrive/Colab Notebooks/Bird.jpg'"
      ],
      "metadata": {
        "id": "alOVEma_gUY2"
      },
      "execution_count": 37,
      "outputs": []
    },
    {
      "cell_type": "code",
      "source": [
        "img_arr=cv2.imread(img_path)\n",
        "img_arr=cv2.resize(img_arr,(32,32))"
      ],
      "metadata": {
        "id": "9x3S2tSOdg_d"
      },
      "execution_count": 38,
      "outputs": []
    },
    {
      "cell_type": "code",
      "source": [
        "#so,eventually,model.predict() should also be a 2d input\n",
        "nX, ny, nrgb = img_arr.shape\n",
        "img_arr2 = img_arr.reshape(1,(nX*ny*nrgb))"
      ],
      "metadata": {
        "id": "gSZqG7bgdhM6"
      },
      "execution_count": 39,
      "outputs": []
    },
    {
      "cell_type": "code",
      "source": [
        "classes = [\"airplane\",\"automobile\",\"bird\",\"cat\",\"deer\",\"dog\",\"frog\",\"horse\",\"ship\",\"truck\"]"
      ],
      "metadata": {
        "id": "EPsyhGKChE5l"
      },
      "execution_count": 40,
      "outputs": []
    },
    {
      "cell_type": "code",
      "source": [
        "ans=model.predict(img_arr2)\n",
        "print(classes[ans[0]])\n",
        "#RandomForestClassifier"
      ],
      "metadata": {
        "colab": {
          "base_uri": "https://localhost:8080/"
        },
        "id": "fwENEDtDhIys",
        "outputId": "f1f8991c-afb7-41b0-aeda-a51814afe37d"
      },
      "execution_count": 43,
      "outputs": [
        {
          "output_type": "stream",
          "name": "stdout",
          "text": [
            "bird\n"
          ]
        }
      ]
    },
    {
      "cell_type": "code",
      "source": [
        ""
      ],
      "metadata": {
        "id": "PRuBAjb5hNKD"
      },
      "execution_count": null,
      "outputs": []
    }
  ]
}
